{
 "cells": [
  {
   "cell_type": "code",
   "id": "initial_id",
   "metadata": {
    "collapsed": true,
    "ExecuteTime": {
     "end_time": "2025-06-01T18:33:56.524689Z",
     "start_time": "2025-06-01T18:33:56.521165Z"
    }
   },
   "source": [
    "import nltk\n",
    "import torch\n",
    "import transformers\n",
    "from transformers import AutoTokenizer, AutoModelForSeq2SeqLM, Seq2SeqTrainingArguments, Seq2SeqTrainer\n",
    "from datasets import load_dataset\n",
    "from evaluate import load\n",
    "from nltk.tokenize import sent_tokenize\n",
    "import numpy as np\n",
    "import accelerate"
   ],
   "outputs": [],
   "execution_count": 12
  },
  {
   "cell_type": "code",
   "source": [
    "metric = load('rouge')\n",
    "nltk.download('punkt_tab')\n",
    "dataset = load_dataset(\"cnn_dailymail\", \"3.0.0\")"
   ],
   "metadata": {
    "collapsed": false,
    "ExecuteTime": {
     "end_time": "2025-06-01T18:34:03.760020Z",
     "start_time": "2025-06-01T18:33:56.553117Z"
    }
   },
   "id": "ee5926996f9f23fe",
   "outputs": [
    {
     "name": "stderr",
     "output_type": "stream",
     "text": [
      "[nltk_data] Downloading package punkt_tab to\n",
      "[nltk_data]     C:\\Users\\Gabi\\AppData\\Roaming\\nltk_data...\n",
      "[nltk_data]   Package punkt_tab is already up-to-date!\n"
     ]
    }
   ],
   "execution_count": 13
  },
  {
   "metadata": {
    "ExecuteTime": {
     "end_time": "2025-06-01T18:34:03.787031Z",
     "start_time": "2025-06-01T18:34:03.780164Z"
    }
   },
   "cell_type": "code",
   "source": [
    "def add_sentenum(example):\n",
    "    sents = sent_tokenize(example['highlights'])\n",
    "    num_sents = len(sents)\n",
    "    prefix = f\"[SN]{num_sents} [SEP]\"\n",
    "    enumerated = ' '.join([f'[SN]{i+1} {s}' for i, s in enumerate(sents)])\n",
    "    example['summary_with_sentenum'] = f\"{prefix} {enumerated}\"\n",
    "    return example\n",
    "\n",
    "def tokenize_function(example):\n",
    "    # Tokenize input article\n",
    "    model_input = tokenizer(\n",
    "        example[\"article\"], \n",
    "        max_length=1024, \n",
    "        truncation=True, \n",
    "        padding=\"max_length\"\n",
    "    )\n",
    "    \n",
    "    # Tokenize sentence-enumerated target summary\n",
    "    with tokenizer.as_target_tokenizer():\n",
    "        labels = tokenizer(\n",
    "            example[\"summary_with_sentenum\"], \n",
    "            max_length=256, \n",
    "            truncation=True, \n",
    "            padding=\"max_length\"\n",
    "        )\n",
    "    \n",
    "    model_input[\"labels\"] = labels[\"input_ids\"]\n",
    "    return model_input\n",
    "\n",
    "def compute_rouge(pred):\n",
    "  predictions, labels = pred\n",
    "  #decode the predictions\n",
    "  decode_predictions = tokenizer.batch_decode(predictions, skip_special_tokens=True)\n",
    "  #decode labels\n",
    "  decode_labels = tokenizer.batch_decode(labels, skip_special_tokens=True)\n",
    "\n",
    "  #compute results\n",
    "  res = metric.compute(predictions=decode_predictions, references=decode_labels, use_stemmer=True)\n",
    "  #get %\n",
    "  res = {key: value * 100 for key, value in res.items()}\n",
    "\n",
    "  pred_lens = [np.count_nonzero(pred != tokenizer.pad_token_id) for pred in predictions]\n",
    "  res['gen_len'] = np.mean(pred_lens)\n",
    "\n",
    "  return {k: round(v, 4) for k, v in res.items()}"
   ],
   "id": "f20267ac4c8d9958",
   "outputs": [],
   "execution_count": 14
  },
  {
   "cell_type": "code",
   "source": [
    "def compute_metrics(eval_pred):\n",
    "    predictions, labels = eval_pred\n",
    "    decoded_preds = tokenizer.batch_decode(predictions, skip_special_tokens=True)\n",
    "    decoded_labels = tokenizer.batch_decode(labels, skip_special_tokens=True)\n",
    "\n",
    "    # ROUGE expects newline-separated sentences\n",
    "    decoded_preds = [\"\\n\".join(pred.strip().split('. ')) for pred in decoded_preds]\n",
    "    decoded_labels = [\"\\n\".join(label.strip().split('. ')) for label in decoded_labels]\n",
    "\n",
    "    result = metric.compute(predictions=decoded_preds, references=decoded_labels, use_stemmer=True)\n",
    "    return {key: value.mid.fmeasure for key, value in result.items()}"
   ],
   "metadata": {
    "collapsed": false,
    "ExecuteTime": {
     "end_time": "2025-06-01T18:34:03.812983Z",
     "start_time": "2025-06-01T18:34:03.809044Z"
    }
   },
   "id": "ee66aec4bff269b7",
   "outputs": [],
   "execution_count": 15
  },
  {
   "cell_type": "code",
   "source": [
    "dataset_sentenum = dataset.map(add_sentenum)"
   ],
   "metadata": {
    "collapsed": false,
    "ExecuteTime": {
     "end_time": "2025-06-01T18:34:07.835771Z",
     "start_time": "2025-06-01T18:34:03.837191Z"
    }
   },
   "id": "bc717649a404117d",
   "outputs": [],
   "execution_count": 16
  },
  {
   "metadata": {
    "ExecuteTime": {
     "end_time": "2025-06-01T18:34:08.564892Z",
     "start_time": "2025-06-01T18:34:07.855778Z"
    }
   },
   "cell_type": "code",
   "source": [
    "tokenizer = AutoTokenizer.from_pretrained(\"facebook/bart-base\")\n",
    "sentenum_tokens = [f\"[SN]{i}\" for i in range(1, 21)] + [\"[SN]\", \"[SEP]\"]\n",
    "special_tokens_dict = {\"additional_special_tokens\": sentenum_tokens}\n",
    "tokenizer.add_special_tokens(special_tokens_dict)"
   ],
   "id": "c5547f1f148a0e2e",
   "outputs": [
    {
     "data": {
      "text/plain": [
       "22"
      ]
     },
     "execution_count": 17,
     "metadata": {},
     "output_type": "execute_result"
    }
   ],
   "execution_count": 17
  },
  {
   "cell_type": "code",
   "source": [
    "device = \"cuda:0\" if torch.cuda.is_available() else \"cpu\""
   ],
   "metadata": {
    "collapsed": false,
    "ExecuteTime": {
     "end_time": "2025-06-01T18:34:08.751142Z",
     "start_time": "2025-06-01T18:34:08.586360Z"
    }
   },
   "id": "5a31744f15e9a9d7",
   "outputs": [],
   "execution_count": 18
  },
  {
   "metadata": {
    "ExecuteTime": {
     "end_time": "2025-06-01T18:34:10.239974Z",
     "start_time": "2025-06-01T18:34:08.776883Z"
    }
   },
   "cell_type": "code",
   "source": [
    "model_checkpoints = \"facebook/bart-base\"\n",
    "model = AutoModelForSeq2SeqLM.from_pretrained(model_checkpoints)\n",
    "model.resize_token_embeddings(len(tokenizer))"
   ],
   "id": "d6f8ff643c1329d1",
   "outputs": [
    {
     "name": "stderr",
     "output_type": "stream",
     "text": [
      "The new embeddings will be initialized from a multivariate normal distribution that has old embeddings' mean and covariance. As described in this article: https://nlp.stanford.edu/~johnhew/vocab-expansion.html. To disable this, use `mean_resizing=False`\n"
     ]
    },
    {
     "data": {
      "text/plain": [
       "BartScaledWordEmbedding(50287, 768, padding_idx=1)"
      ]
     },
     "execution_count": 19,
     "metadata": {},
     "output_type": "execute_result"
    }
   ],
   "execution_count": 19
  },
  {
   "metadata": {
    "ExecuteTime": {
     "end_time": "2025-06-01T18:34:16.701628Z",
     "start_time": "2025-06-01T18:34:10.273719Z"
    }
   },
   "cell_type": "code",
   "source": [
    "tokenized_dataset = dataset_sentenum.map(tokenize_function, batched=True, remove_columns=['id','article', 'highlights'])"
   ],
   "id": "d3819e65529e20c2",
   "outputs": [],
   "execution_count": 20
  },
  {
   "metadata": {
    "ExecuteTime": {
     "end_time": "2025-06-01T18:34:16.802567Z",
     "start_time": "2025-06-01T18:34:16.724634Z"
    }
   },
   "cell_type": "code",
   "source": [
    "train_sample = tokenized_dataset['train'].shuffle(seed=123).select(range(5000))\n",
    "validation_sample = tokenized_dataset['validation'].shuffle(seed=123).select(range(500))\n",
    "test_sample = dataset_sentenum['test'].shuffle(seed=123).select(range(500))"
   ],
   "id": "7a3de44a6dd7e436",
   "outputs": [],
   "execution_count": 21
  },
  {
   "metadata": {
    "ExecuteTime": {
     "end_time": "2025-06-01T18:34:16.827209Z",
     "start_time": "2025-06-01T18:34:16.824730Z"
    }
   },
   "cell_type": "code",
   "source": [
    "collator = transformers.DataCollatorForSeq2Seq(tokenizer, model=model)"
   ],
   "id": "d7ef4686c94debc9",
   "outputs": [],
   "execution_count": 22
  },
  {
   "metadata": {
    "ExecuteTime": {
     "end_time": "2025-06-01T18:34:16.859989Z",
     "start_time": "2025-06-01T18:34:16.857431Z"
    }
   },
   "cell_type": "code",
   "source": "max_input = 512",
   "id": "99e5033c3fd03fed",
   "outputs": [],
   "execution_count": 23
  },
  {
   "metadata": {
    "ExecuteTime": {
     "end_time": "2025-06-01T18:34:17.089027Z",
     "start_time": "2025-06-01T18:34:16.889893Z"
    }
   },
   "cell_type": "code",
   "source": [
    "accelerator = accelerate.Accelerator(mixed_precision='fp16')\n",
    "args = Seq2SeqTrainingArguments(\n",
    "    '../summ', #save directory\n",
    "    learning_rate=2e-5,\n",
    "    per_device_train_batch_size=8,\n",
    "    per_device_eval_batch_size= 4,\n",
    "    gradient_accumulation_steps=4,\n",
    "    weight_decay=0.01,\n",
    "    save_total_limit=2,\n",
    "    num_train_epochs=10,\n",
    "    predict_with_generate=True,\n",
    "    eval_accumulation_steps=2,\n",
    "    no_cuda=False,\n",
    "    fp16=torch.cuda.is_available()\n",
    "    )"
   ],
   "id": "27695a4e9c03ec5a",
   "outputs": [],
   "execution_count": 24
  },
  {
   "cell_type": "markdown",
   "source": [
    "## Trening"
   ],
   "metadata": {
    "collapsed": false
   },
   "id": "96fbc5bb78ff057a"
  },
  {
   "metadata": {
    "ExecuteTime": {
     "end_time": "2025-05-15T19:49:10.165286Z",
     "start_time": "2025-05-15T19:49:08.582817Z"
    }
   },
   "cell_type": "code",
   "source": [
    "trainer = Seq2SeqTrainer(\n",
    "    model, \n",
    "    args,\n",
    "    train_dataset=train_sample,\n",
    "    eval_dataset=validation_sample,\n",
    "    data_collator=collator,\n",
    "    processing_class=tokenizer,\n",
    "    compute_metrics=compute_rouge\n",
    ")"
   ],
   "id": "ceeedf8d186b47e",
   "outputs": [],
   "execution_count": 14
  },
  {
   "metadata": {
    "ExecuteTime": {
     "end_time": "2025-05-16T08:36:08.635235Z",
     "start_time": "2025-05-15T19:49:11.760376Z"
    }
   },
   "cell_type": "code",
   "source": [
    "trainer.train()"
   ],
   "id": "253b55c2854d176b",
   "outputs": [
    {
     "data": {
      "text/plain": [
       "<IPython.core.display.HTML object>"
      ],
      "text/html": [
       "\n",
       "    <div>\n",
       "      \n",
       "      <progress value='1560' max='1560' style='width:300px; height:20px; vertical-align: middle;'></progress>\n",
       "      [1560/1560 12:46:26, Epoch 9/10]\n",
       "    </div>\n",
       "    <table border=\"1\" class=\"dataframe\">\n",
       "  <thead>\n",
       " <tr style=\"text-align: left;\">\n",
       "      <th>Step</th>\n",
       "      <th>Training Loss</th>\n",
       "    </tr>\n",
       "  </thead>\n",
       "  <tbody>\n",
       "    <tr>\n",
       "      <td>500</td>\n",
       "      <td>1.711900</td>\n",
       "    </tr>\n",
       "    <tr>\n",
       "      <td>1000</td>\n",
       "      <td>0.516200</td>\n",
       "    </tr>\n",
       "    <tr>\n",
       "      <td>1500</td>\n",
       "      <td>0.474500</td>\n",
       "    </tr>\n",
       "  </tbody>\n",
       "</table><p>"
      ]
     },
     "metadata": {},
     "output_type": "display_data"
    },
    {
     "name": "stderr",
     "output_type": "stream",
     "text": [
      "C:\\Users\\Gabi\\PycharmProjects\\PJN_cuda\\.venv\\Lib\\site-packages\\transformers\\modeling_utils.py:3339: UserWarning: Moving the following attributes in the config to the generation config: {'early_stopping': True, 'num_beams': 4, 'no_repeat_ngram_size': 3, 'forced_bos_token_id': 0}. You are seeing this warning because you've set generation parameters in the model config, as opposed to in the generation config.\n",
      "  warnings.warn(\n"
     ]
    },
    {
     "data": {
      "text/plain": [
       "TrainOutput(global_step=1560, training_loss=0.8843606410882412, metrics={'train_runtime': 46016.7104, 'train_samples_per_second': 1.087, 'train_steps_per_second': 0.034, 'total_flos': 3.030634092036096e+16, 'train_loss': 0.8843606410882412, 'epoch': 9.9408})"
      ]
     },
     "execution_count": 15,
     "metadata": {},
     "output_type": "execute_result"
    }
   ],
   "execution_count": 15
  },
  {
   "metadata": {
    "ExecuteTime": {
     "end_time": "2025-05-16T08:36:35.701415Z",
     "start_time": "2025-05-16T08:36:30.832205Z"
    }
   },
   "cell_type": "code",
   "source": "trainer.save_model('./model_sentenum2')",
   "id": "53fbd94fff0b2ef8",
   "outputs": [],
   "execution_count": 18
  },
  {
   "cell_type": "markdown",
   "source": [
    "## Clean model"
   ],
   "metadata": {
    "collapsed": false
   },
   "id": "a5383077a4bc9cbf"
  },
  {
   "metadata": {
    "ExecuteTime": {
     "end_time": "2025-05-08T16:45:31.976265Z",
     "start_time": "2025-05-08T16:45:31.973398Z"
    }
   },
   "cell_type": "code",
   "source": [
    "def tokenize_function(example):\n",
    "    # Tokenize input article\n",
    "    model_input = tokenizer(\n",
    "        example[\"article\"],\n",
    "        max_length=1024,\n",
    "        truncation=True,\n",
    "        padding=\"max_length\"\n",
    "    )\n",
    "\n",
    "    # Tokenize sentence-enumerated target summary\n",
    "    with tokenizer.as_target_tokenizer():\n",
    "        labels = tokenizer(\n",
    "            example[\"highlights\"],\n",
    "            max_length=256,\n",
    "            truncation=True,\n",
    "            padding=\"max_length\"\n",
    "        )\n",
    "\n",
    "    model_input[\"labels\"] = labels[\"input_ids\"]\n",
    "    return model_input"
   ],
   "id": "fe79ecc8636e6356",
   "outputs": [],
   "execution_count": 21
  },
  {
   "cell_type": "code",
   "source": [
    "model_checkpoints = \"facebook/bart-base\"\n",
    "model = AutoModelForSeq2SeqLM.from_pretrained(model_checkpoints)\n",
    "tokenizer = AutoTokenizer.from_pretrained(\"facebook/bart-base\")"
   ],
   "metadata": {
    "collapsed": false,
    "ExecuteTime": {
     "end_time": "2025-05-08T16:45:37.851952Z",
     "start_time": "2025-05-08T16:45:36.585239Z"
    }
   },
   "id": "ea6d07fa4f8c9457",
   "outputs": [],
   "execution_count": 23
  },
  {
   "metadata": {},
   "cell_type": "code",
   "source": "tokenized_dataset = dataset.map(tokenize_function, batched=True, remove_columns=['id','article', 'highlights'])",
   "id": "70af99c4a47d6e80",
   "outputs": [],
   "execution_count": null
  },
  {
   "metadata": {},
   "cell_type": "code",
   "source": [
    "train_sample = tokenized_dataset['train'].shuffle(seed=123).select(range(5000))\n",
    "validation_sample = tokenized_dataset['validation'].shuffle(seed=123).select(range(500))\n",
    "test_sample = dataset['test'].shuffle(seed=123).select(range(500))"
   ],
   "id": "fedebcb2819208e2",
   "outputs": [],
   "execution_count": null
  },
  {
   "cell_type": "code",
   "source": [
    "collator = transformers.DataCollatorForSeq2Seq(tokenizer, model=model)\n",
    "\n",
    "trainer_clean = Seq2SeqTrainer(\n",
    "    model, \n",
    "    args,\n",
    "    train_dataset=train_sample,\n",
    "    eval_dataset=validation_sample,\n",
    "    data_collator=collator,\n",
    "    processing_class=tokenizer,\n",
    "    compute_metrics=compute_metrics\n",
    ")"
   ],
   "metadata": {
    "collapsed": false,
    "ExecuteTime": {
     "end_time": "2025-05-08T16:51:13.139775Z",
     "start_time": "2025-05-08T16:51:13.131597Z"
    }
   },
   "id": "a4b3cb4521749339",
   "outputs": [],
   "execution_count": 29
  },
  {
   "cell_type": "code",
   "source": [
    "trainer_clean.train()"
   ],
   "metadata": {
    "collapsed": false,
    "ExecuteTime": {
     "end_time": "2025-05-09T05:42:42.862876Z",
     "start_time": "2025-05-08T16:51:14.259227Z"
    }
   },
   "id": "5d37689e53a441af",
   "outputs": [
    {
     "data": {
      "text/plain": [
       "<IPython.core.display.HTML object>"
      ],
      "text/html": [
       "\n",
       "    <div>\n",
       "      \n",
       "      <progress value='1560' max='1560' style='width:300px; height:20px; vertical-align: middle;'></progress>\n",
       "      [1560/1560 12:50:58, Epoch 9/10]\n",
       "    </div>\n",
       "    <table border=\"1\" class=\"dataframe\">\n",
       "  <thead>\n",
       " <tr style=\"text-align: left;\">\n",
       "      <th>Step</th>\n",
       "      <th>Training Loss</th>\n",
       "    </tr>\n",
       "  </thead>\n",
       "  <tbody>\n",
       "    <tr>\n",
       "      <td>500</td>\n",
       "      <td>1.625300</td>\n",
       "    </tr>\n",
       "    <tr>\n",
       "      <td>1000</td>\n",
       "      <td>0.487800</td>\n",
       "    </tr>\n",
       "    <tr>\n",
       "      <td>1500</td>\n",
       "      <td>0.454400</td>\n",
       "    </tr>\n",
       "  </tbody>\n",
       "</table><p>"
      ]
     },
     "metadata": {},
     "output_type": "display_data"
    },
    {
     "name": "stderr",
     "output_type": "stream",
     "text": [
      "C:\\Users\\Gabi\\PycharmProjects\\PJN_cuda\\.venv\\Lib\\site-packages\\transformers\\modeling_utils.py:3339: UserWarning: Moving the following attributes in the config to the generation config: {'early_stopping': True, 'num_beams': 4, 'no_repeat_ngram_size': 3, 'forced_bos_token_id': 0}. You are seeing this warning because you've set generation parameters in the model config, as opposed to in the generation config.\n",
      "  warnings.warn(\n"
     ]
    },
    {
     "data": {
      "text/plain": [
       "TrainOutput(global_step=1560, training_loss=0.8402925662505321, metrics={'train_runtime': 46288.4383, 'train_samples_per_second': 1.08, 'train_steps_per_second': 0.034, 'total_flos': 3.030634092036096e+16, 'train_loss': 0.8402925662505321, 'epoch': 9.9408})"
      ]
     },
     "execution_count": 30,
     "metadata": {},
     "output_type": "execute_result"
    }
   ],
   "execution_count": 30
  },
  {
   "metadata": {
    "ExecuteTime": {
     "end_time": "2025-05-09T05:58:51.651064Z",
     "start_time": "2025-05-09T05:58:50.736303Z"
    }
   },
   "cell_type": "code",
   "source": "trainer_clean.save_model('./model_clean')",
   "id": "e8d378de81672cf5",
   "outputs": [],
   "execution_count": 32
  },
  {
   "metadata": {
    "collapsed": false
   },
   "cell_type": "markdown",
   "source": "## Test",
   "id": "cc4a0c0c0a75cdf0"
  },
  {
   "metadata": {},
   "cell_type": "code",
   "source": [
    "dataset = load_dataset(\"cnn_dailymail\", \"3.0.0\")\n",
    "tokenizer = AutoTokenizer.from_pretrained(\"facebook/bart-base\")\n",
    "sentenum_tokens = [f\"[SN]{i}\" for i in range(1, 21)] + [\"[SN]\", \"[SEP]\"]\n",
    "special_tokens_dict = {\"additional_special_tokens\": sentenum_tokens}\n",
    "tokenizer.add_special_tokens(special_tokens_dict)\n",
    "\n",
    "\n",
    "test_sample = dataset['test'].shuffle(seed=123).select(range(500))"
   ],
   "id": "b3935f0d47f6452c",
   "outputs": [],
   "execution_count": null
  },
  {
   "cell_type": "code",
   "source": [
    "model_trained = AutoModelForSeq2SeqLM.from_pretrained('../model_sentenum')\n",
    "trainer_trained = Seq2SeqTrainer(\n",
    "    model_trained, \n",
    "    args,\n",
    "    processing_class=tokenizer,\n",
    "    compute_metrics=compute_rouge\n",
    ")"
   ],
   "metadata": {
    "collapsed": false,
    "ExecuteTime": {
     "end_time": "2025-06-01T18:36:06.482141Z",
     "start_time": "2025-06-01T18:36:04.266117Z"
    }
   },
   "id": "ebc44efe9a2ec9b8",
   "outputs": [],
   "execution_count": 29
  },
  {
   "cell_type": "code",
   "source": [
    "test_article = test_sample[10]['article']\n",
    "max_input=512\n",
    "\n",
    "# Tokenize\n",
    "model_input = tokenizer(\n",
    "    test_article,\n",
    "    max_length=max_input,\n",
    "    padding='max_length',\n",
    "    truncation=True,\n",
    "    return_tensors='pt'\n",
    ")\n",
    "model_input = {k: v.to(trainer_trained.model.device) for k, v in model_input.items()}\n",
    "# Generate\n",
    "with torch.no_grad():\n",
    "    generated_ids = trainer_trained.model.generate(\n",
    "        input_ids=model_input['input_ids'],\n",
    "        attention_mask=model_input['attention_mask'],\n",
    "        max_length=512,\n",
    "        num_beams=4,\n",
    "        early_stopping=True\n",
    "    )\n",
    "\n",
    "# Decode\n",
    "output = tokenizer.decode(generated_ids[0])\n",
    "print(output)"
   ],
   "metadata": {
    "collapsed": false
   },
   "id": "35ec9a2b6c14c774",
   "outputs": [],
   "execution_count": null
  },
  {
   "cell_type": "code",
   "source": [
    "predictions = []\n",
    "references = []\n",
    "\n",
    "count = 0\n",
    "for sample in test_sample:  # Your test or validation dataset\n",
    "    input_text = sample[\"article\"]\n",
    "    reference_summary = sample[\"highlights\"]\n",
    "\n",
    "    # Tokenize and generate\n",
    "    inputs = tokenizer(input_text, return_tensors=\"pt\", truncation=True, padding=True, max_length=512).to(model.device)\n",
    "\n",
    "    with torch.no_grad():\n",
    "        output_ids = model.generate(\n",
    "            input_ids=inputs[\"input_ids\"],\n",
    "            attention_mask=inputs[\"attention_mask\"],\n",
    "            max_length=128,\n",
    "            num_beams=4\n",
    "        )\n",
    "\n",
    "    # Decode\n",
    "    pred = tokenizer.decode(output_ids[0], skip_special_tokens=True)\n",
    "\n",
    "    predictions.append(pred)\n",
    "    references.append(reference_summary)\n",
    "    \n",
    "    count += 1\n",
    "    print(count)\n"
   ],
   "metadata": {
    "collapsed": false,
    "ExecuteTime": {
     "end_time": "2025-05-15T17:07:40.127141Z",
     "start_time": "2025-05-15T16:37:34.042201Z"
    }
   },
   "id": "1b203c44e286233a",
   "outputs": [
    {
     "name": "stdout",
     "output_type": "stream",
     "text": [
      "1\n",
      "2\n",
      "3\n",
      "4\n",
      "5\n",
      "6\n",
      "7\n",
      "8\n",
      "9\n",
      "10\n",
      "11\n",
      "12\n",
      "13\n",
      "14\n",
      "15\n",
      "16\n",
      "17\n",
      "18\n",
      "19\n",
      "20\n",
      "21\n",
      "22\n",
      "23\n",
      "24\n",
      "25\n",
      "26\n",
      "27\n",
      "28\n",
      "29\n",
      "30\n",
      "31\n",
      "32\n",
      "33\n",
      "34\n",
      "35\n",
      "36\n",
      "37\n",
      "38\n",
      "39\n",
      "40\n",
      "41\n",
      "42\n",
      "43\n",
      "44\n",
      "45\n",
      "46\n",
      "47\n",
      "48\n",
      "49\n",
      "50\n",
      "51\n",
      "52\n",
      "53\n",
      "54\n",
      "55\n",
      "56\n",
      "57\n",
      "58\n",
      "59\n",
      "60\n",
      "61\n",
      "62\n",
      "63\n",
      "64\n",
      "65\n",
      "66\n",
      "67\n",
      "68\n",
      "69\n",
      "70\n",
      "71\n",
      "72\n",
      "73\n",
      "74\n",
      "75\n",
      "76\n",
      "77\n",
      "78\n",
      "79\n",
      "80\n",
      "81\n",
      "82\n",
      "83\n",
      "84\n",
      "85\n",
      "86\n",
      "87\n",
      "88\n",
      "89\n",
      "90\n",
      "91\n",
      "92\n",
      "93\n",
      "94\n",
      "95\n",
      "96\n",
      "97\n",
      "98\n",
      "99\n",
      "100\n",
      "101\n",
      "102\n",
      "103\n",
      "104\n",
      "105\n",
      "106\n",
      "107\n",
      "108\n",
      "109\n",
      "110\n",
      "111\n",
      "112\n",
      "113\n",
      "114\n",
      "115\n",
      "116\n",
      "117\n",
      "118\n",
      "119\n",
      "120\n",
      "121\n",
      "122\n",
      "123\n",
      "124\n",
      "125\n",
      "126\n",
      "127\n",
      "128\n",
      "129\n",
      "130\n",
      "131\n",
      "132\n",
      "133\n",
      "134\n",
      "135\n",
      "136\n",
      "137\n",
      "138\n",
      "139\n",
      "140\n",
      "141\n",
      "142\n",
      "143\n",
      "144\n",
      "145\n",
      "146\n",
      "147\n",
      "148\n",
      "149\n",
      "150\n",
      "151\n",
      "152\n",
      "153\n",
      "154\n",
      "155\n",
      "156\n",
      "157\n",
      "158\n",
      "159\n",
      "160\n",
      "161\n",
      "162\n",
      "163\n",
      "164\n",
      "165\n",
      "166\n",
      "167\n",
      "168\n",
      "169\n",
      "170\n",
      "171\n",
      "172\n",
      "173\n",
      "174\n",
      "175\n",
      "176\n",
      "177\n",
      "178\n",
      "179\n",
      "180\n",
      "181\n",
      "182\n",
      "183\n",
      "184\n",
      "185\n",
      "186\n",
      "187\n",
      "188\n",
      "189\n",
      "190\n",
      "191\n",
      "192\n",
      "193\n",
      "194\n",
      "195\n",
      "196\n",
      "197\n",
      "198\n",
      "199\n",
      "200\n",
      "201\n",
      "202\n",
      "203\n",
      "204\n",
      "205\n",
      "206\n",
      "207\n",
      "208\n",
      "209\n",
      "210\n",
      "211\n",
      "212\n",
      "213\n",
      "214\n",
      "215\n",
      "216\n",
      "217\n",
      "218\n",
      "219\n",
      "220\n",
      "221\n",
      "222\n",
      "223\n",
      "224\n",
      "225\n",
      "226\n",
      "227\n",
      "228\n",
      "229\n",
      "230\n",
      "231\n",
      "232\n",
      "233\n",
      "234\n",
      "235\n",
      "236\n",
      "237\n",
      "238\n",
      "239\n",
      "240\n",
      "241\n",
      "242\n",
      "243\n",
      "244\n",
      "245\n",
      "246\n",
      "247\n",
      "248\n",
      "249\n",
      "250\n",
      "251\n",
      "252\n",
      "253\n",
      "254\n",
      "255\n",
      "256\n",
      "257\n",
      "258\n",
      "259\n",
      "260\n",
      "261\n",
      "262\n",
      "263\n",
      "264\n",
      "265\n",
      "266\n",
      "267\n",
      "268\n",
      "269\n",
      "270\n",
      "271\n",
      "272\n",
      "273\n",
      "274\n",
      "275\n",
      "276\n",
      "277\n",
      "278\n",
      "279\n",
      "280\n",
      "281\n",
      "282\n",
      "283\n",
      "284\n",
      "285\n",
      "286\n",
      "287\n",
      "288\n",
      "289\n",
      "290\n",
      "291\n",
      "292\n",
      "293\n",
      "294\n",
      "295\n",
      "296\n",
      "297\n",
      "298\n",
      "299\n",
      "300\n",
      "301\n",
      "302\n",
      "303\n",
      "304\n",
      "305\n",
      "306\n",
      "307\n",
      "308\n",
      "309\n",
      "310\n",
      "311\n",
      "312\n",
      "313\n",
      "314\n",
      "315\n",
      "316\n",
      "317\n",
      "318\n",
      "319\n",
      "320\n",
      "321\n",
      "322\n",
      "323\n",
      "324\n",
      "325\n",
      "326\n",
      "327\n",
      "328\n",
      "329\n",
      "330\n",
      "331\n",
      "332\n",
      "333\n",
      "334\n",
      "335\n",
      "336\n",
      "337\n",
      "338\n",
      "339\n",
      "340\n",
      "341\n",
      "342\n",
      "343\n",
      "344\n",
      "345\n",
      "346\n",
      "347\n",
      "348\n",
      "349\n",
      "350\n",
      "351\n",
      "352\n",
      "353\n",
      "354\n",
      "355\n",
      "356\n",
      "357\n",
      "358\n",
      "359\n",
      "360\n",
      "361\n",
      "362\n",
      "363\n",
      "364\n",
      "365\n",
      "366\n",
      "367\n",
      "368\n",
      "369\n",
      "370\n",
      "371\n",
      "372\n",
      "373\n",
      "374\n",
      "375\n",
      "376\n",
      "377\n",
      "378\n",
      "379\n",
      "380\n",
      "381\n",
      "382\n",
      "383\n",
      "384\n",
      "385\n",
      "386\n",
      "387\n",
      "388\n",
      "389\n",
      "390\n",
      "391\n",
      "392\n",
      "393\n",
      "394\n",
      "395\n",
      "396\n",
      "397\n",
      "398\n",
      "399\n",
      "400\n",
      "401\n",
      "402\n",
      "403\n",
      "404\n",
      "405\n",
      "406\n",
      "407\n",
      "408\n",
      "409\n",
      "410\n",
      "411\n",
      "412\n",
      "413\n",
      "414\n",
      "415\n",
      "416\n",
      "417\n",
      "418\n",
      "419\n",
      "420\n",
      "421\n",
      "422\n",
      "423\n",
      "424\n",
      "425\n",
      "426\n",
      "427\n",
      "428\n",
      "429\n",
      "430\n",
      "431\n",
      "432\n",
      "433\n",
      "434\n",
      "435\n",
      "436\n",
      "437\n",
      "438\n",
      "439\n",
      "440\n",
      "441\n",
      "442\n",
      "443\n",
      "444\n",
      "445\n",
      "446\n",
      "447\n",
      "448\n",
      "449\n",
      "450\n",
      "451\n",
      "452\n",
      "453\n",
      "454\n",
      "455\n",
      "456\n",
      "457\n",
      "458\n",
      "459\n",
      "460\n",
      "461\n",
      "462\n",
      "463\n",
      "464\n",
      "465\n",
      "466\n",
      "467\n",
      "468\n",
      "469\n",
      "470\n",
      "471\n",
      "472\n",
      "473\n",
      "474\n",
      "475\n",
      "476\n",
      "477\n",
      "478\n",
      "479\n",
      "480\n",
      "481\n",
      "482\n",
      "483\n",
      "484\n",
      "485\n",
      "486\n",
      "487\n",
      "488\n",
      "489\n",
      "490\n",
      "491\n",
      "492\n",
      "493\n",
      "494\n",
      "495\n",
      "496\n",
      "497\n",
      "498\n",
      "499\n",
      "500\n"
     ]
    }
   ],
   "execution_count": 9
  },
  {
   "cell_type": "code",
   "source": [
    "results = metric.compute(predictions=predictions, references=references, use_stemmer=True)"
   ],
   "metadata": {
    "collapsed": false,
    "ExecuteTime": {
     "end_time": "2025-05-14T20:57:27.299740Z",
     "start_time": "2025-05-14T20:57:25.413289Z"
    }
   },
   "id": "ce0095cc0d4a421f",
   "outputs": [],
   "execution_count": 34
  },
  {
   "cell_type": "code",
   "source": [
    "for key in results:\n",
    "    print(f\"{key}: {results[key]:.4f}\")\n"
   ],
   "metadata": {
    "collapsed": false,
    "ExecuteTime": {
     "end_time": "2025-05-14T20:57:29.019720Z",
     "start_time": "2025-05-14T20:57:29.015717Z"
    }
   },
   "id": "7fe5d36025ebf8d1",
   "outputs": [
    {
     "name": "stdout",
     "output_type": "stream",
     "text": [
      "rouge1: 0.4054\n",
      "rouge2: 0.1860\n",
      "rougeL: 0.2837\n",
      "rougeLsum: 0.3484\n"
     ]
    }
   ],
   "execution_count": 35
  }
 ],
 "metadata": {
  "kernelspec": {
   "display_name": "Python 3",
   "language": "python",
   "name": "python3"
  },
  "language_info": {
   "codemirror_mode": {
    "name": "ipython",
    "version": 2
   },
   "file_extension": ".py",
   "mimetype": "text/x-python",
   "name": "python",
   "nbconvert_exporter": "python",
   "pygments_lexer": "ipython2",
   "version": "2.7.6"
  }
 },
 "nbformat": 4,
 "nbformat_minor": 5
}
